{
 "cells": [
  {
   "cell_type": "markdown",
   "id": "82927a92-729d-4bab-ad05-c0dc8e018ee4",
   "metadata": {},
   "source": [
    "# Training of features mapper from buffalo_l model to antelopev2\n",
    "\n",
    "**Reasoning**:\n",
    "\n",
    "* there is a high quality and open source InstanceID model to generate faces from antelopev2 feature vector\n",
    "* we have the restriction for attacked model (buffalo_l)\n",
    "* we can train buffalo_l to antelopev2 feature mapper, and if it's quality will be high enough, we will be able to reconstruct similar face from such mapped feature vector"
   ]
  },
  {
   "cell_type": "code",
   "execution_count": 1,
   "id": "7ac49c7d-72be-4cda-ab6f-3b942cb6634b",
   "metadata": {},
   "outputs": [],
   "source": [
    "import pickle\n",
    "import os\n",
    "from torch.utils.data import Dataset, DataLoader\n",
    "import torch\n",
    "import torchvision\n",
    "import numpy as np\n",
    "import pandas as pd\n",
    "\n",
    "import random\n",
    "from easydict import EasyDict as edict\n",
    "from tqdm import tqdm\n",
    "import matplotlib.pyplot as plt\n",
    "import seaborn as sns"
   ]
  },
  {
   "cell_type": "code",
   "execution_count": 2,
   "id": "9f067d50-6e12-4059-b27b-01b0bdb35033",
   "metadata": {},
   "outputs": [],
   "source": [
    "cfg = edict()\n",
    "cfg.data_root = '../data'\n",
    "cfg.num_epoch = 10\n",
    "cfg.lr = 0.1\n",
    "cfg.batch_size = 4096\n",
    "cfg.embed_dim = 512"
   ]
  },
  {
   "cell_type": "code",
   "execution_count": 3,
   "id": "7061f374-2701-4d4c-86a4-6130a5111098",
   "metadata": {},
   "outputs": [
    {
     "name": "stdout",
     "output_type": "stream",
     "text": [
      "tensor([1.], device='mps:0')\n"
     ]
    }
   ],
   "source": [
    "if torch.backends.mps.is_available():\n",
    "    mps_device = torch.device(\"mps\")\n",
    "    x = torch.ones(1, device=mps_device)\n",
    "    print (x)\n",
    "else:\n",
    "    print (\"MPS device not found.\")\n"
   ]
  },
  {
   "cell_type": "code",
   "execution_count": 4,
   "id": "9b1a7708-9ccd-495a-993d-854111e79e14",
   "metadata": {},
   "outputs": [],
   "source": [
    "class AverageMeter(object):\n",
    "    \"\"\"Computes and stores the average and current value\"\"\"\n",
    "    def __init__(self):\n",
    "        self.reset()\n",
    "\n",
    "    def reset(self):\n",
    "        self.val = 0\n",
    "        self.avg = 0\n",
    "        self.sum = 0\n",
    "        self.count = 0\n",
    "\n",
    "    def update(self, val, n=1):\n",
    "        if val != np.nan and val != np.inf:\n",
    "            self.val = val\n",
    "            self.sum += val * n\n",
    "            self.count += n\n",
    "            self.avg = self.sum / self.count"
   ]
  },
  {
   "cell_type": "code",
   "execution_count": 5,
   "id": "fa088752-2c1b-478e-ae09-97afc3ec4c6e",
   "metadata": {},
   "outputs": [],
   "source": [
    "class Vect2VecDataset(Dataset):\n",
    "    def __init__(self, data_root, data_files=None, mode='train', ph_per_id=None, max_ph=None):\n",
    "        if data_files is None:\n",
    "            data_files = os.listdir(data_root)\n",
    "        self.names = []\n",
    "        self.feats0 = []\n",
    "        self.feats1 = []\n",
    "        for file_name in data_files:\n",
    "            file_path = os.path.join(data_root, file_name)\n",
    "            with open(file_path, 'rb') as f:\n",
    "                data = pickle.load(f)\n",
    "            self.names.extend(data['file'])\n",
    "            self.feats0.extend(data['buffalo'])\n",
    "            self.feats1.extend(data['antelope'])\n",
    "\n",
    "\n",
    "        if ph_per_id:\n",
    "            names = []\n",
    "            feats0 = []\n",
    "            feats1 = []\n",
    "            last_uid = ''\n",
    "            for i in range(len(self.names)):\n",
    "                cur_uid = self.names[i].split('/')[0]\n",
    "                if cur_uid != last_uid:\n",
    "                    last_uid = cur_uid\n",
    "                    n = 0\n",
    "                if n < ph_per_id:\n",
    "                    names.append(self.names[i])\n",
    "                    feats0.append(self.feats0[i])\n",
    "                    feats1.append(self.feats1[i])\n",
    "                    n += 1\n",
    "                if len(names) == max_ph:\n",
    "                    break\n",
    "            self.names = names\n",
    "            self.feats0 = feats0\n",
    "            self.feats1 = feats1\n",
    "        uniq_uids = set(map(lambda x: x.split('/')[0], self.names))\n",
    "        self.feats0 = np.concatenate(self.feats0, axis=0)\n",
    "        self.feats1 = np.concatenate(self.feats1, axis=0)\n",
    "\n",
    "        print(f'{mode.upper()} dataset: \\nUnique UIDS: {len(uniq_uids)} \\nVector pairs: {len(self.names)}')\n",
    "              \n",
    "    def __len__(self):\n",
    "        return len(self.names)\n",
    "\n",
    "    def __getitem__(self, idx):\n",
    "        \n",
    "        feats0 = torch.from_numpy(self.feats0[idx]).reshape(-1)\n",
    "        feats1 = torch.from_numpy(self.feats1[idx]).reshape(-1)\n",
    "        \n",
    "        return feats0, feats1"
   ]
  },
  {
   "cell_type": "code",
   "execution_count": 6,
   "id": "5d8c5e83-c4fd-45a0-9d4d-7650ef448cb6",
   "metadata": {},
   "outputs": [],
   "source": [
    "train_files = ['templatesgen_glint_0_10K.pkl', \n",
    "               'templatesgen_glint_10K_20K.pkl',\n",
    "               'templatesgen_glint_20K_30K.pkl',\n",
    "               'templatesgen_glint_30K_40K.pkl',\n",
    "               'templatesgen_glint_40K_50K.pkl',\n",
    "               'templatesgen_glint_50K_60K.pkl',\n",
    "               'templatesgen_glint_60K_70K.pkl',\n",
    "               'templatesgen_glint_70K_80K.pkl',\n",
    "               'templatesgen_glint_80K_90K.pkl',\n",
    "               'templatesgen_glint_90K_100K.pkl',\n",
    "               'templatesgen_glint_140K_180K.pkl',\n",
    "               'templatesgen_glint_210K_220K.pkl',\n",
    "               'templatesgen_glint_180K_200K.pkl',\n",
    "               'templatesgen_glint_200K_210K.pkl']\n",
    "                 \n",
    "test_files = ['templatesgen_glint_220K_230K.pkl']    "
   ]
  },
  {
   "cell_type": "code",
   "execution_count": 7,
   "id": "2e38ee5d-f9c2-4bf4-83d3-149329a847ad",
   "metadata": {},
   "outputs": [
    {
     "name": "stdout",
     "output_type": "stream",
     "text": [
      "TRAIN dataset: \n",
      "Unique UIDS: 180000 \n",
      "Vector pairs: 8625932\n",
      "VAL dataset: \n",
      "Unique UIDS: 10000 \n",
      "Vector pairs: 373874\n"
     ]
    }
   ],
   "source": [
    "dataset_train = Vect2VecDataset(cfg.data_root, train_files)\n",
    "dataloader_train = DataLoader(dataset_train, batch_size=cfg.batch_size, shuffle=True)\n",
    "\n",
    "dataset_val = Vect2VecDataset(cfg.data_root, test_files, mode='val')\n",
    "dataloader_val = DataLoader(dataset_val, batch_size=cfg.batch_size, shuffle=False)"
   ]
  },
  {
   "cell_type": "markdown",
   "id": "941fd53e-ee08-4022-9db0-94b8f48eab2e",
   "metadata": {},
   "source": [
    "## Training\n",
    "\n",
    "For training we are going to use MSELoss ==> lets visualize vectors l2 norm distribution for loss scale understanding"
   ]
  },
  {
   "cell_type": "code",
   "execution_count": 8,
   "id": "91ec2b14-1647-423e-913a-09da748cdae4",
   "metadata": {},
   "outputs": [
    {
     "data": {
      "image/png": "[encoded data removed]",
      "text/plain": [
       "<Figure size 1100x500 with 1 Axes>"
      ]
     },
     "metadata": {},
     "output_type": "display_data"
    }
   ],
   "source": [
    "norm0 = list(map(np.linalg.norm, dataset_train.feats0))\n",
    "norm1 = list(map(np.linalg.norm, dataset_train.feats1))\n",
    "\n",
    "df = pd.DataFrame()\n",
    "df['l2_norm'] = norm0 + norm1\n",
    "df['model'] = ['buffalo' for i in range(len(norm0))] + ['antelope' for i in range(len(norm1))]\n",
    "\n",
    "fig, ax = plt.subplots(figsize=(11,5))\n",
    "\n",
    "plt.grid(color = 'black', linewidth = 0.1)\n",
    "g = sns.kdeplot(\n",
    "   data=df, x=\"l2_norm\", hue=\"model\",\n",
    "   fill=True, common_norm=False, # palette=\"crest\",\n",
    "   alpha=.4, linewidth=0,\n",
    ")\n",
    "\n",
    "plt.show(g)"
   ]
  },
  {
   "cell_type": "markdown",
   "id": "9daeea58-0b4c-42be-954f-406ae7176856",
   "metadata": {},
   "source": [
    "## Training\n",
    "\n",
    "### Architecture selection\n",
    "\n",
    "We have a hypothesis that there exists global optimal mutual arrangement of people in the latent space for all models. In this case transition to a new basis is enough which can be realised with a single Linear layer. Also we try more complex MLP architectures"
   ]
  },
  {
   "cell_type": "code",
   "execution_count": 14,
   "id": "53a84393-a556-46c0-8dff-b531e57172f6",
   "metadata": {},
   "outputs": [],
   "source": [
    "cfg.num_epoch = 3\n",
    "models = {\n",
    "    'linear_wo_bias': torch.nn.Linear(cfg.embed_dim, cfg.embed_dim, bias=False),\n",
    "    'linear': torch.nn.Linear(cfg.embed_dim, cfg.embed_dim),\n",
    "    'mlp_1h_no_act_no_norm': torchvision.ops.MLP(cfg.embed_dim, [cfg.embed_dim], activation_layer=torch.nn.Identity),\n",
    "    'mlp_1h_relu_act_no_norm': torchvision.ops.MLP(cfg.embed_dim, [cfg.embed_dim]),\n",
    "    'mlp_1h_no_act_bn1d_norm': torchvision.ops.MLP(cfg.embed_dim, [cfg.embed_dim], norm_layer=torch.nn.BatchNorm1d, activation_layer=torch.nn.Identity),\n",
    "    'mlp_1h_relu_act_bn1d_norm': torchvision.ops.MLP(cfg.embed_dim, [cfg.embed_dim], norm_layer=torch.nn.BatchNorm1d),\n",
    "    'mlp_2h_no_act_no_norm': torchvision.ops.MLP(cfg.embed_dim, [cfg.embed_dim, cfg.embed_dim], activation_layer=torch.nn.Identity),\n",
    "\n",
    "}\n",
    "\n",
    "loss = torch.nn.MSELoss()\n"
   ]
  },
  {
   "cell_type": "code",
   "execution_count": 16,
   "id": "5a636932-f54d-4305-ae86-ae9c3f319b06",
   "metadata": {},
   "outputs": [],
   "source": [
    "def run_train_epoch(model, opt, dataloader_train, scheduler=None, epoch=-1):\n",
    "    loss_train = AverageMeter()\n",
    "    model.train()\n",
    "    for feats0, feats1 in tqdm(dataloader_train):\n",
    "        feats0 = feats0.to(mps_device)\n",
    "        feats1 = feats1.to(mps_device)\n",
    "        \n",
    "        pred = model(feats0)\n",
    "        batch_loss = loss(pred, feats1)\n",
    "        batch_loss.backward()\n",
    "        loss_train.update(batch_loss.detach().cpu())\n",
    "        opt.step()\n",
    "        opt.zero_grad()\n",
    "    if scheduler:\n",
    "        scheduler.step()\n",
    "    print(f'TRAIN EPOCH {epoch}: MSE {loss_train.avg}')\n",
    "\n",
    "\n",
    "def run_val_epoch(model, dataloader_val, epoch=-1):\n",
    "    loss_val = AverageMeter()\n",
    "    cos_val = AverageMeter()\n",
    "    cos = torch.nn.CosineSimilarity()\n",
    "    cos_vals = []\n",
    "    model.eval()\n",
    "    for feats0, feats1 in tqdm(dataloader_val):\n",
    "        feats0 = feats0.to(mps_device)\n",
    "        feats1 = feats1.to(mps_device)\n",
    "        with torch.no_grad():\n",
    "            pred = model(feats0)\n",
    "            batch_loss = loss(pred, feats1)\n",
    "            batch_cos = cos(pred, feats1)\n",
    "        cos_vals.extend(batch_cos.cpu().numpy().tolist())\n",
    "        loss_val.update(batch_loss)\n",
    "        cos_val.update(batch_cos.mean())\n",
    "    print(f'VAL EPOCH {epoch}: MSE {loss_val.avg} | mean cos: {cos_val.avg}')\n",
    "\n",
    "    return model, cos_vals\n",
    "\n",
    "def run_epoch(model, opt, dataloader_train, dataloader_val, scheduler=None, epoch=-1):\n",
    "    run_train_epoch(model, opt, dataloader_train, scheduler, epoch)\n",
    "    run_val_epoch(model, dataloader_val, epoch)"
   ]
  },
  {
   "cell_type": "code",
   "execution_count": 11,
   "id": "27a8964c-5042-45dd-adb5-4cd65a39c936",
   "metadata": {},
   "outputs": [
    {
     "name": "stdout",
     "output_type": "stream",
     "text": [
      "linear_wo_bias\n"
     ]
    },
    {
     "name": "stderr",
     "output_type": "stream",
     "text": [
      "100%|███████████████████████████████████████████████████████████████████████████████████████████████████████████████████████████████████████| 2106/2106 [02:09<00:00, 16.21it/s]\n"
     ]
    },
    {
     "name": "stdout",
     "output_type": "stream",
     "text": [
      "TRAIN EPOCH -1: MSE 0.25992903113365173\n"
     ]
    },
    {
     "name": "stderr",
     "output_type": "stream",
     "text": [
      "100%|███████████████████████████████████████████████████████████████████████████████████████████████████████████████████████████████████████████| 92/92 [00:05<00:00, 17.20it/s]\n"
     ]
    },
    {
     "name": "stdout",
     "output_type": "stream",
     "text": [
      "VAL EPOCH -1: MSE 0.20691941678524017 | mean cos: 0.8960865139961243\n",
      "linear\n"
     ]
    },
    {
     "name": "stderr",
     "output_type": "stream",
     "text": [
      "100%|███████████████████████████████████████████████████████████████████████████████████████████████████████████████████████████████████████| 2106/2106 [02:08<00:00, 16.33it/s]\n"
     ]
    },
    {
     "name": "stdout",
     "output_type": "stream",
     "text": [
      "TRAIN EPOCH -1: MSE 0.2592540383338928\n"
     ]
    },
    {
     "name": "stderr",
     "output_type": "stream",
     "text": [
      "100%|███████████████████████████████████████████████████████████████████████████████████████████████████████████████████████████████████████████| 92/92 [00:04<00:00, 18.79it/s]\n"
     ]
    },
    {
     "name": "stdout",
     "output_type": "stream",
     "text": [
      "VAL EPOCH -1: MSE 0.20633502304553986 | mean cos: 0.8964141607284546\n",
      "mlp_1h_no_act_no_norm\n"
     ]
    },
    {
     "name": "stderr",
     "output_type": "stream",
     "text": [
      "100%|███████████████████████████████████████████████████████████████████████████████████████████████████████████████████████████████████████| 2106/2106 [02:09<00:00, 16.30it/s]\n"
     ]
    },
    {
     "name": "stdout",
     "output_type": "stream",
     "text": [
      "TRAIN EPOCH -1: MSE 0.2592402696609497\n"
     ]
    },
    {
     "name": "stderr",
     "output_type": "stream",
     "text": [
      "100%|███████████████████████████████████████████████████████████████████████████████████████████████████████████████████████████████████████████| 92/92 [00:04<00:00, 19.65it/s]\n"
     ]
    },
    {
     "name": "stdout",
     "output_type": "stream",
     "text": [
      "VAL EPOCH -1: MSE 0.20635385811328888 | mean cos: 0.8964032530784607\n",
      "mlp_1h_relu_act_no_norm\n"
     ]
    },
    {
     "name": "stderr",
     "output_type": "stream",
     "text": [
      "100%|███████████████████████████████████████████████████████████████████████████████████████████████████████████████████████████████████████| 2106/2106 [02:10<00:00, 16.17it/s]\n"
     ]
    },
    {
     "name": "stdout",
     "output_type": "stream",
     "text": [
      "TRAIN EPOCH -1: MSE 0.2593415677547455\n"
     ]
    },
    {
     "name": "stderr",
     "output_type": "stream",
     "text": [
      "100%|███████████████████████████████████████████████████████████████████████████████████████████████████████████████████████████████████████████| 92/92 [00:04<00:00, 19.50it/s]\n"
     ]
    },
    {
     "name": "stdout",
     "output_type": "stream",
     "text": [
      "VAL EPOCH -1: MSE 0.2062741219997406 | mean cos: 0.8964500427246094\n",
      "mlp_1h_no_act_bn1d_norm\n"
     ]
    },
    {
     "name": "stderr",
     "output_type": "stream",
     "text": [
      "100%|███████████████████████████████████████████████████████████████████████████████████████████████████████████████████████████████████████| 2106/2106 [02:09<00:00, 16.23it/s]\n"
     ]
    },
    {
     "name": "stdout",
     "output_type": "stream",
     "text": [
      "TRAIN EPOCH -1: MSE 0.2594585418701172\n"
     ]
    },
    {
     "name": "stderr",
     "output_type": "stream",
     "text": [
      "100%|███████████████████████████████████████████████████████████████████████████████████████████████████████████████████████████████████████████| 92/92 [00:04<00:00, 18.98it/s]\n"
     ]
    },
    {
     "name": "stdout",
     "output_type": "stream",
     "text": [
      "VAL EPOCH -1: MSE 0.206247478723526 | mean cos: 0.8964642286300659\n",
      "mlp_1h_relu_act_bn1d_norm\n"
     ]
    },
    {
     "name": "stderr",
     "output_type": "stream",
     "text": [
      "100%|███████████████████████████████████████████████████████████████████████████████████████████████████████████████████████████████████████| 2106/2106 [02:09<00:00, 16.32it/s]\n"
     ]
    },
    {
     "name": "stdout",
     "output_type": "stream",
     "text": [
      "TRAIN EPOCH -1: MSE 0.2593229413032532\n"
     ]
    },
    {
     "name": "stderr",
     "output_type": "stream",
     "text": [
      "100%|███████████████████████████████████████████████████████████████████████████████████████████████████████████████████████████████████████████| 92/92 [00:04<00:00, 19.03it/s]\n"
     ]
    },
    {
     "name": "stdout",
     "output_type": "stream",
     "text": [
      "VAL EPOCH -1: MSE 0.20630331337451935 | mean cos: 0.8964346051216125\n",
      "mlp_2h_no_act_no_norm\n"
     ]
    },
    {
     "name": "stderr",
     "output_type": "stream",
     "text": [
      "100%|███████████████████████████████████████████████████████████████████████████████████████████████████████████████████████████████████████| 2106/2106 [02:14<00:00, 15.61it/s]\n"
     ]
    },
    {
     "name": "stdout",
     "output_type": "stream",
     "text": [
      "TRAIN EPOCH -1: MSE 0.2750991880893707\n"
     ]
    },
    {
     "name": "stderr",
     "output_type": "stream",
     "text": [
      "100%|███████████████████████████████████████████████████████████████████████████████████████████████████████████████████████████████████████████| 92/92 [00:04<00:00, 18.74it/s]"
     ]
    },
    {
     "name": "stdout",
     "output_type": "stream",
     "text": [
      "VAL EPOCH -1: MSE 0.20657895505428314 | mean cos: 0.896274983882904\n"
     ]
    },
    {
     "name": "stderr",
     "output_type": "stream",
     "text": [
      "\n"
     ]
    }
   ],
   "source": [
    "for model_name, model in models.items():\n",
    "    print(model_name)\n",
    "    model.to(mps_device)\n",
    "    opt = torch.optim.SGD(params=model.parameters(), lr=cfg.lr, momentum=0.9)\n",
    "    model_trained = run_epoch(model, opt, dataloader_train, dataloader_val)\n",
    "    # scheduler = torch.optim.lr_scheduler.MultiStepLR(opt, milestones=[i for i in range(0, cfg.num_epoch)], verbose=False)"
   ]
  },
  {
   "attachments": {
    "9bf491ad-6fe8-4af3-8ede-e5535ea64676.png": {
     "image/png": "[encoded data removed]"
    }
   },
   "cell_type": "markdown",
   "id": "e0b6c9a1-bc48-498d-b2db-b69acd3b2389",
   "metadata": {},
   "source": [
    "## Training \n",
    "\n",
    "Linear layer turned out to be enough. For global optimum we will use OLS (averaged by sveral parts due to RAM restriction)\n",
    "\n",
    "![image.png](attachment:9bf491ad-6fe8-4af3-8ede-e5535ea64676.png)"
   ]
  },
  {
   "cell_type": "code",
   "execution_count": 6,
   "id": "f3917d3e-1d50-49b7-87d7-ed5b68601204",
   "metadata": {},
   "outputs": [],
   "source": [
    "def analytical_solution(X, Y, bias=True):\n",
    "    \"\"\"\n",
    "    Compute the analytical solution for the weights matrix A and bias vector b\n",
    "    for the linear layer equation Y = X.dot(A) + b.\n",
    "    \n",
    "    Parameters:\n",
    "    X : numpy array, shape (N, 512)\n",
    "        Input feature matrix.\n",
    "    Y : numpy array, shape (N, 512)\n",
    "        Target matrix.\n",
    "        \n",
    "    Returns:\n",
    "    A : numpy array, shape (512, 512)\n",
    "        Weights matrix.\n",
    "    b : numpy array, shape (1, 512)\n",
    "        Bias vector.\n",
    "    \"\"\"\n",
    "    N = X.shape[0]\n",
    "    \n",
    "    # Augment X with a column of ones to account for the bias term\n",
    "    if bias:\n",
    "        X = np.hstack((np.ones((N, 1)), X))\n",
    "    \n",
    "    # Normal equation to solve for the augmented weights\n",
    "    W = np.linalg.lstsq(X, Y, rcond=None)[0]\n",
    "    \n",
    "    # Extract the bias and weights\n",
    "    if bias:\n",
    "        b = W[0, :]\n",
    "        A = W[1:, :]\n",
    "    else:\n",
    "        b = None\n",
    "        A = W\n",
    "    return A, b"
   ]
  },
  {
   "cell_type": "code",
   "execution_count": 7,
   "id": "3f416b52-4fa9-4f8f-9be9-314826e8f5dd",
   "metadata": {},
   "outputs": [],
   "source": [
    "train_parts = {0: ['templatesgen_glint_0_10K.pkl', \n",
    "                  'templatesgen_glint_10K_20K.pkl',\n",
    "                  'templatesgen_glint_20K_30K.pkl',\n",
    "                  'templatesgen_glint_30K_40K.pkl',\n",
    "                  'templatesgen_glint_40K_50K.pkl'\n",
    "                  ],\n",
    "               1: ['templatesgen_glint_50K_60K.pkl',\n",
    "                   'templatesgen_glint_60K_70K.pkl',\n",
    "                   'templatesgen_glint_70K_80K.pkl',\n",
    "                   'templatesgen_glint_80K_90K.pkl',\n",
    "                   'templatesgen_glint_90K_100K.pkl'\n",
    "                  ],\n",
    "               2: ['templatesgen_glint_140K_180K.pkl',\n",
    "                   'templatesgen_glint_210K_220K.pkl'\n",
    "                  ],\n",
    "               3: ['templatesgen_glint_180K_200K.pkl',\n",
    "                   'templatesgen_glint_200K_210K.pkl'\n",
    "                  ]\n",
    "              }\n",
    "                 \n",
    "test_parts = ['templatesgen_glint_220K_230K.pkl']    "
   ]
  },
  {
   "cell_type": "code",
   "execution_count": 8,
   "id": "cfc039af-2325-4e7f-ae88-bccfa974ad37",
   "metadata": {},
   "outputs": [
    {
     "name": "stdout",
     "output_type": "stream",
     "text": [
      "VAL dataset: \n",
      "Unique UIDS: 10000 \n",
      "Vector pairs: 373874\n"
     ]
    }
   ],
   "source": [
    "dataset_val = Vect2VecDataset(cfg.data_root, test_parts, mode='val')\n",
    "dataloader_val = DataLoader(dataset_val, batch_size=cfg.batch_size, shuffle=False)"
   ]
  },
  {
   "cell_type": "code",
   "execution_count": 9,
   "id": "d1b71174-dd83-411b-88d3-3de9fe6dfe34",
   "metadata": {},
   "outputs": [],
   "source": [
    "def validate(dataset_val, params):\n",
    "    A, b = params\n",
    "    pred = dataset_val.feats0.dot(A) + b.reshape(1, 512)\n",
    "    mse = ((pred - dataset_val.feats1) **2).mean()\n",
    "    cos = torch.nn.CosineSimilarity()(torch.from_numpy(pred), torch.from_numpy(dataset_val.feats1)).mean()\n",
    "\n",
    "    return mse, cos \n",
    "\n",
    "\n",
    "def process_part(files_list, ph_per_id=None, max_ph=None):\n",
    "    dataset_train = Vect2VecDataset(cfg.data_root, files_list, mode='train', ph_per_id=ph_per_id, max_ph=max_ph)\n",
    "    dataset_val = Vect2VecDataset(cfg.data_root, test_parts, mode='val', ph_per_id=ph_per_id, max_ph=max_ph)\n",
    "    A, b = analytical_solution(dataset_train.feats0, dataset_train.feats1)\n",
    "    print(validate(dataset_val, (A, b)))\n",
    "\n",
    "    return A, b\n",
    "\n",
    "\n",
    "def export_model(A, b, name):\n",
    "    model = torch.nn.Linear(cfg.embed_dim, cfg.embed_dim)\n",
    "    w = model.state_dict()\n",
    "    w['weight'] = torch.from_numpy(A).transpose(1, 0)\n",
    "    w['bias'] = torch.from_numpy(b)\n",
    "    model.load_state_dict(w)\n",
    "    model.to(mps_device)\n",
    "    loss = torch.nn.MSELoss()\n",
    "    dataset_val = Vect2VecDataset(cfg.data_root, test_parts, mode='val')\n",
    "    dataloader_val = DataLoader(dataset_val, batch_size=cfg.batch_size, shuffle=False)\n",
    "    model, cos_vals = run_val_epoch(model, dataloader_val, epoch=-1)\n",
    "    \n",
    "    x = torch.randn(1, 512, requires_grad=False)\n",
    "    x = x.to(mps_device)\n",
    "    model.eval()\n",
    "    torch_out = model(x)\n",
    "    \n",
    "    # Export the model\n",
    "    torch.onnx.export(model,               # model being run\n",
    "                      x,                         # model input (or a tuple for multiple inputs)\n",
    "                      f\"buffalo2antelope_adapter_{name}.onnx\",   # where to save the model (can be a file or file-like object)\n",
    "                      export_params=True,        # store the trained parameter weights inside the model file\n",
    "                      do_constant_folding=True,  # whether to execute constant folding for optimization\n",
    "                      input_names = ['input'],   # the model's input names\n",
    "                      output_names = ['output'], # the model's output names\n",
    "                      dynamic_axes={'input' : {0 : 'batch_size'},    # variable length axes\n",
    "                                    'output' : {0 : 'batch_size'}})\n",
    "\n",
    "    return cos_vals\n"
   ]
  },
  {
   "cell_type": "code",
   "execution_count": 10,
   "id": "10326143-debd-45ef-88ea-8eb353c7fcb4",
   "metadata": {},
   "outputs": [
    {
     "name": "stdout",
     "output_type": "stream",
     "text": [
      "TRAIN dataset: \n",
      "Unique UIDS: 50000 \n",
      "Vector pairs: 2782828\n",
      "VAL dataset: \n",
      "Unique UIDS: 10000 \n",
      "Vector pairs: 373874\n",
      "(0.19374546426230058, tensor(0.9033, dtype=torch.float64))\n",
      "TRAIN dataset: \n",
      "Unique UIDS: 50000 \n",
      "Vector pairs: 2495778\n",
      "VAL dataset: \n",
      "Unique UIDS: 10000 \n",
      "Vector pairs: 373874\n",
      "(0.19368677109573876, tensor(0.9033, dtype=torch.float64))\n",
      "TRAIN dataset: \n",
      "Unique UIDS: 50000 \n",
      "Vector pairs: 2139964\n",
      "VAL dataset: \n",
      "Unique UIDS: 10000 \n",
      "Vector pairs: 373874\n",
      "(0.19362566610908738, tensor(0.9034, dtype=torch.float64))\n",
      "TRAIN dataset: \n",
      "Unique UIDS: 30000 \n",
      "Vector pairs: 1207362\n",
      "VAL dataset: \n",
      "Unique UIDS: 10000 \n",
      "Vector pairs: 373874\n",
      "(0.19465626861986074, tensor(0.9028, dtype=torch.float64))\n"
     ]
    }
   ],
   "source": [
    "results = []\n",
    "\n",
    "for part in train_parts:\n",
    "    params = process_part(train_parts[part])\n",
    "    results.append(params)"
   ]
  },
  {
   "cell_type": "code",
   "execution_count": 18,
   "id": "3f2e740d-b2cc-4693-8051-03593ff1df44",
   "metadata": {},
   "outputs": [
    {
     "name": "stdout",
     "output_type": "stream",
     "text": [
      "VAL dataset: \n",
      "Unique UIDS: 10000 \n",
      "Vector pairs: 373874\n"
     ]
    },
    {
     "name": "stderr",
     "output_type": "stream",
     "text": [
      "100%|███████████████████████████████████████████████████████████████████████████████████████████████████████████████████████████████████████████| 92/92 [00:02<00:00, 34.18it/s]\n"
     ]
    },
    {
     "name": "stdout",
     "output_type": "stream",
     "text": [
      "VAL EPOCH -1: MSE 0.19256280362606049 | mean cos: 0.9039458632469177\n",
      "================ Diagnostic Run torch.onnx.export version 2.0.1 ================\n",
      "verbose: False, log level: Level.ERROR\n",
      "======================= 0 NONE 0 NOTE 0 WARNING 0 ERROR ========================\n",
      "\n"
     ]
    }
   ],
   "source": [
    "A = np.stack([params[0] for params in results]).mean(axis=0)\n",
    "b = np.stack([params[1] for params in results]).mean(axis=0)\n",
    "val_cos = export_model(A, b, 'all_data')"
   ]
  },
  {
   "cell_type": "code",
   "execution_count": 21,
   "id": "39931190-5dab-4f92-87d3-2b4f94355ad0",
   "metadata": {},
   "outputs": [
    {
     "data": {
      "image/png": "[encoded data removed]",
      "text/plain": [
       "<Figure size 1100x500 with 1 Axes>"
      ]
     },
     "metadata": {},
     "output_type": "display_data"
    }
   ],
   "source": [
    "fig, ax = plt.subplots(figsize=(11,5))\n",
    "\n",
    "plt.grid(color = 'black', linewidth = 0.1)\n",
    "g = sns.kdeplot(\n",
    "   data=val_cos,\n",
    "   fill=True, common_norm=False, # palette=\"crest\",\n",
    "   alpha=.4, linewidth=0,\n",
    ")\n",
    "plt.title('Vlidation: the similarity distribution of buffalo2antelote adapted features with original antelope features')\n",
    "plt.show(g)"
   ]
  },
  {
   "cell_type": "markdown",
   "id": "4135279f-fbaf-439d-bb00-f02d51c67528",
   "metadata": {},
   "source": [
    "## Experiments\n",
    "\n",
    "Previously we trained with all data (~200k ids with >10m phs).\n",
    "Now lets move to more realistic situation whrere limited database is stolen with only one photo per person, and find necessary number of vectors for adequate quality."
   ]
  },
  {
   "cell_type": "code",
   "execution_count": 22,
   "id": "36b9e5ea-de77-4433-9a07-07a5d201e1a0",
   "metadata": {},
   "outputs": [],
   "source": [
    "train_parts_by_size = {100: ['templatesgen_glint_0_10K.pkl'],\n",
    "                       1000: ['templatesgen_glint_0_10K.pkl'],\n",
    "                       10000: ['templatesgen_glint_0_10K.pkl'],\n",
    "                       100000: ['templatesgen_glint_0_10K.pkl',\n",
    "                               'templatesgen_glint_10K_20K.pkl',\n",
    "                               'templatesgen_glint_20K_30K.pkl',\n",
    "                               'templatesgen_glint_30K_40K.pkl',\n",
    "                               'templatesgen_glint_40K_50K.pkl',\n",
    "                               'templatesgen_glint_50K_60K.pkl',\n",
    "                               'templatesgen_glint_60K_70K.pkl',\n",
    "                               'templatesgen_glint_70K_80K.pkl',\n",
    "                               'templatesgen_glint_80K_90K.pkl',\n",
    "                               'templatesgen_glint_90K_100K.pkl'\n",
    "                       ]\n",
    "                       }"
   ]
  },
  {
   "cell_type": "code",
   "execution_count": 23,
   "id": "a1b2e0d4-11bb-4d84-9b77-882680b05ef1",
   "metadata": {},
   "outputs": [
    {
     "name": "stdout",
     "output_type": "stream",
     "text": [
      "TRAIN dataset: \n",
      "Unique UIDS: 100 \n",
      "Vector pairs: 100\n",
      "VAL dataset: \n",
      "Unique UIDS: 100 \n",
      "Vector pairs: 100\n",
      "(0.8344655252744826, tensor(0.4661, dtype=torch.float64))\n",
      "VAL dataset: \n",
      "Unique UIDS: 10000 \n",
      "Vector pairs: 373874\n"
     ]
    },
    {
     "name": "stderr",
     "output_type": "stream",
     "text": [
      "100%|███████████████████████████████████████████████████████████████████████████████████████████████████████████████████████████████████████████| 92/92 [00:02<00:00, 36.23it/s]\n"
     ]
    },
    {
     "name": "stdout",
     "output_type": "stream",
     "text": [
      "VAL EPOCH -1: MSE 0.8223060369491577 | mean cos: 0.4517739713191986\n",
      "================ Diagnostic Run torch.onnx.export version 2.0.1 ================\n",
      "verbose: False, log level: Level.ERROR\n",
      "======================= 0 NONE 0 NOTE 0 WARNING 0 ERROR ========================\n",
      "\n",
      "TRAIN dataset: \n",
      "Unique UIDS: 1000 \n",
      "Vector pairs: 1000\n",
      "VAL dataset: \n",
      "Unique UIDS: 1000 \n",
      "Vector pairs: 1000\n",
      "(0.387483161477883, tensor(0.8171, dtype=torch.float64))\n",
      "VAL dataset: \n",
      "Unique UIDS: 10000 \n",
      "Vector pairs: 373874\n"
     ]
    },
    {
     "name": "stderr",
     "output_type": "stream",
     "text": [
      "100%|███████████████████████████████████████████████████████████████████████████████████████████████████████████████████████████████████████████| 92/92 [00:02<00:00, 34.51it/s]\n"
     ]
    },
    {
     "name": "stdout",
     "output_type": "stream",
     "text": [
      "VAL EPOCH -1: MSE 0.3942187428474426 | mean cos: 0.8111485838890076\n",
      "================ Diagnostic Run torch.onnx.export version 2.0.1 ================\n",
      "verbose: False, log level: Level.ERROR\n",
      "======================= 0 NONE 0 NOTE 0 WARNING 0 ERROR ========================\n",
      "\n",
      "TRAIN dataset: \n",
      "Unique UIDS: 10000 \n",
      "Vector pairs: 10000\n",
      "VAL dataset: \n",
      "Unique UIDS: 10000 \n",
      "Vector pairs: 10000\n",
      "(0.198603503818432, tensor(0.9028, dtype=torch.float64))\n",
      "VAL dataset: \n",
      "Unique UIDS: 10000 \n",
      "Vector pairs: 373874\n"
     ]
    },
    {
     "name": "stderr",
     "output_type": "stream",
     "text": [
      "100%|███████████████████████████████████████████████████████████████████████████████████████████████████████████████████████████████████████████| 92/92 [00:02<00:00, 35.11it/s]\n"
     ]
    },
    {
     "name": "stdout",
     "output_type": "stream",
     "text": [
      "VAL EPOCH -1: MSE 0.20489375293254852 | mean cos: 0.8972924947738647\n",
      "================ Diagnostic Run torch.onnx.export version 2.0.1 ================\n",
      "verbose: False, log level: Level.ERROR\n",
      "======================= 0 NONE 0 NOTE 0 WARNING 0 ERROR ========================\n",
      "\n",
      "TRAIN dataset: \n",
      "Unique UIDS: 100000 \n",
      "Vector pairs: 100000\n",
      "VAL dataset: \n",
      "Unique UIDS: 10000 \n",
      "Vector pairs: 10000\n",
      "(0.18881267074618244, tensor(0.9080, dtype=torch.float64))\n",
      "VAL dataset: \n",
      "Unique UIDS: 10000 \n",
      "Vector pairs: 373874\n"
     ]
    },
    {
     "name": "stderr",
     "output_type": "stream",
     "text": [
      "100%|███████████████████████████████████████████████████████████████████████████████████████████████████████████████████████████████████████████| 92/92 [00:02<00:00, 33.24it/s]\n"
     ]
    },
    {
     "name": "stdout",
     "output_type": "stream",
     "text": [
      "VAL EPOCH -1: MSE 0.19529838860034943 | mean cos: 0.9024257659912109\n",
      "================ Diagnostic Run torch.onnx.export version 2.0.1 ================\n",
      "verbose: False, log level: Level.ERROR\n",
      "======================= 0 NONE 0 NOTE 0 WARNING 0 ERROR ========================\n",
      "\n"
     ]
    }
   ],
   "source": [
    "cos_distr_dict = {}\n",
    "\n",
    "for part in train_parts_by_size:\n",
    "    A, b = process_part(train_parts_by_size[part], 1, part)\n",
    "    cos_vals = export_model(A, b, part)\n",
    "    cos_distr_dict[part] = cos_vals"
   ]
  },
  {
   "cell_type": "code",
   "execution_count": 34,
   "id": "ed0a8c2f-6fd5-4cd5-8067-af8db4df1aa8",
   "metadata": {},
   "outputs": [
    {
     "data": {
      "image/png": "[encoded data removed]",
      "text/plain": [
       "<Figure size 1100x500 with 1 Axes>"
      ]
     },
     "metadata": {},
     "output_type": "display_data"
    }
   ],
   "source": [
    "fig, ax = plt.subplots(figsize=(11,5))\n",
    "\n",
    "plt.grid(color = 'black', linewidth = 0.1)\n",
    "g = sns.kdeplot(\n",
    "   data=cos_distr_dict,#df, x=\"cos\", hue=\"model\",\n",
    "   fill=True, common_norm=False, # palette=\"crest\",\n",
    "   alpha=.4, linewidth=0\n",
    ")\n",
    "# plt.legend(title='N train vectors')\n",
    "plt.title('Vlidation: the similarity distribution of buffalo2antelote adapted features with original antelope features')\n",
    "\n",
    "plt.show(g)"
   ]
  },
  {
   "cell_type": "markdown",
   "id": "34ed0bc1-32b9-48cc-b359-a54797151c94",
   "metadata": {},
   "source": [
    "### 10k ids seems to be enough, but we should check recunstruction results and similarity scores"
   ]
  },
  {
   "cell_type": "code",
   "execution_count": 32,
   "id": "ca746405-ad0a-412a-addb-a945457fac4a",
   "metadata": {},
   "outputs": [
    {
     "name": "stdout",
     "output_type": "stream",
     "text": [
      "TRAIN dataset: \n",
      "Unique UIDS: 100 \n",
      "Vector pairs: 100\n",
      "VAL dataset: \n",
      "Unique UIDS: 100 \n",
      "Vector pairs: 100\n",
      "(0.835396177249485, tensor(0.4623, dtype=torch.float64))\n",
      "VAL dataset: \n",
      "Unique UIDS: 10000 \n",
      "Vector pairs: 373874\n"
     ]
    },
    {
     "name": "stderr",
     "output_type": "stream",
     "text": [
      "100%|███████████████████████████████████████████████████████████████████████████████████████████████████████████████████████████████████████████| 92/92 [00:03<00:00, 28.74it/s]\n"
     ]
    },
    {
     "name": "stdout",
     "output_type": "stream",
     "text": [
      "VAL EPOCH -1: MSE 0.8132529258728027 | mean cos: 0.45666274428367615\n",
      "================ Diagnostic Run torch.onnx.export version 2.0.1 ================\n",
      "verbose: False, log level: Level.ERROR\n",
      "======================= 0 NONE 0 NOTE 0 WARNING 0 ERROR ========================\n",
      "\n",
      "TRAIN dataset: \n",
      "Unique UIDS: 1000 \n",
      "Vector pairs: 1000\n",
      "VAL dataset: \n",
      "Unique UIDS: 1000 \n",
      "Vector pairs: 1000\n",
      "(0.4917181208695631, tensor(0.7682, dtype=torch.float64))\n",
      "VAL dataset: \n",
      "Unique UIDS: 10000 \n",
      "Vector pairs: 373874\n"
     ]
    },
    {
     "name": "stderr",
     "output_type": "stream",
     "text": [
      "100%|███████████████████████████████████████████████████████████████████████████████████████████████████████████████████████████████████████████| 92/92 [00:02<00:00, 33.62it/s]\n"
     ]
    },
    {
     "name": "stdout",
     "output_type": "stream",
     "text": [
      "VAL EPOCH -1: MSE 0.4821140468120575 | mean cos: 0.7691298723220825\n",
      "================ Diagnostic Run torch.onnx.export version 2.0.1 ================\n",
      "verbose: False, log level: Level.ERROR\n",
      "======================= 0 NONE 0 NOTE 0 WARNING 0 ERROR ========================\n",
      "\n",
      "TRAIN dataset: \n",
      "Unique UIDS: 4000 \n",
      "Vector pairs: 4000\n",
      "VAL dataset: \n",
      "Unique UIDS: 4000 \n",
      "Vector pairs: 4000\n",
      "(0.2722044732555119, tensor(0.8633, dtype=torch.float64))\n",
      "VAL dataset: \n",
      "Unique UIDS: 10000 \n",
      "Vector pairs: 373874\n"
     ]
    },
    {
     "name": "stderr",
     "output_type": "stream",
     "text": [
      "100%|███████████████████████████████████████████████████████████████████████████████████████████████████████████████████████████████████████████| 92/92 [00:02<00:00, 33.85it/s]\n"
     ]
    },
    {
     "name": "stdout",
     "output_type": "stream",
     "text": [
      "VAL EPOCH -1: MSE 0.26875826716423035 | mean cos: 0.8622453808784485\n",
      "================ Diagnostic Run torch.onnx.export version 2.0.1 ================\n",
      "verbose: False, log level: Level.ERROR\n",
      "======================= 0 NONE 0 NOTE 0 WARNING 0 ERROR ========================\n",
      "\n"
     ]
    }
   ],
   "source": [
    "train_parts_by_size = {100: ['high_quality.pickle'],\n",
    "                       1000: ['high_quality.pickle'],\n",
    "                       4000: ['high_quality.pickle']\n",
    "                       }\n",
    "\n",
    "cos_distr_dict_hq = {}\n",
    "for part in train_parts_by_size:\n",
    "    A, b = process_part(train_parts_by_size[part], 1, part)\n",
    "    cos_vals = export_model(A, b, f'HQ_{part}')\n",
    "    cos_distr_dict_hq[part] = cos_vals"
   ]
  },
  {
   "cell_type": "code",
   "execution_count": 35,
   "id": "ecb2f1f6-24d5-481c-81a4-e0f68c9fb84a",
   "metadata": {},
   "outputs": [
    {
     "data": {
      "image/png": "[encoded data removed]",
      "text/plain": [
       "<Figure size 1100x500 with 1 Axes>"
      ]
     },
     "metadata": {},
     "output_type": "display_data"
    }
   ],
   "source": [
    "fig, ax = plt.subplots(figsize=(11,5))\n",
    "\n",
    "plt.grid(color = 'black', linewidth = 0.1)\n",
    "g = sns.kdeplot(\n",
    "   data=cos_distr_dict_hq,#df, x=\"cos\", hue=\"model\",\n",
    "   fill=True, common_norm=False, # palette=\"crest\",\n",
    "   alpha=.4, linewidth=0\n",
    ")\n",
    "# plt.legend(title='N train vectors')\n",
    "plt.title('Vlidation: the similarity distribution of buffalo2antelote adapted features with original antelope features')\n",
    "\n",
    "plt.show(g)"
   ]
  },
  {
   "cell_type": "code",
   "execution_count": null,
   "id": "b2d1b46d-5391-449d-bc38-5f5f68460c92",
   "metadata": {},
   "outputs": [],
   "source": []
  },
  {
   "cell_type": "code",
   "execution_count": null,
   "id": "c2b710f1-b2e9-4cf8-ac09-fb99b6a66896",
   "metadata": {},
   "outputs": [],
   "source": []
  }
 ],
 "metadata": {
  "kernelspec": {
   "display_name": "Python 3 (ipykernel)",
   "language": "python",
   "name": "python3"
  },
  "language_info": {
   "codemirror_mode": {
    "name": "ipython",
    "version": 3
   },
   "file_extension": ".py",
   "mimetype": "text/x-python",
   "name": "python",
   "nbconvert_exporter": "python",
   "pygments_lexer": "ipython3",
   "version": "3.10.14"
  }
 },
 "nbformat": 4,
 "nbformat_minor": 5
}
